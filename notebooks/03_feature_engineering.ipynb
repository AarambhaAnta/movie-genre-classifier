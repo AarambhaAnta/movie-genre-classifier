{
 "cells": [
  {
   "cell_type": "markdown",
   "metadata": {},
   "source": [
    "# Notebook: 03_feature_engineering.ipynb"
   ]
  },
  {
   "cell_type": "code",
   "execution_count": 2,
   "metadata": {},
   "outputs": [],
   "source": [
    "import pandas as pd\n",
    "from sklearn.feature_extraction.text import TfidfVectorizer\n",
    "import joblib"
   ]
  },
  {
   "cell_type": "code",
   "execution_count": 3,
   "metadata": {},
   "outputs": [
    {
     "name": "stdout",
     "output_type": "stream",
     "text": [
      "Loading TF-IDF features from: ../data/processed/train_data_tfidf.csv\n"
     ]
    }
   ],
   "source": [
    "# Load processed TF-IDF data\n",
    "tfidf_path = \"../data/processed/train_data_tfidf.csv\"\n",
    "print(f\"Loading TF-IDF features from: {tfidf_path}\")\n",
    "X_tfidf = pd.read_csv(tfidf_path)"
   ]
  },
  {
   "cell_type": "code",
   "execution_count": 4,
   "metadata": {},
   "outputs": [],
   "source": [
    "# Load the target labels\n",
    "y_train_path = \"../data/processed/y_train.csv\"\n",
    "y_train = pd.read_csv(y_train_path)\n"
   ]
  },
  {
   "cell_type": "code",
   "execution_count": 5,
   "metadata": {},
   "outputs": [
    {
     "name": "stdout",
     "output_type": "stream",
     "text": [
      "TF-IDF feature shape: (54214, 5000)\n",
      "Target labels shape: (43371, 1)\n"
     ]
    }
   ],
   "source": [
    "\n",
    "print(f\"TF-IDF feature shape: {X_tfidf.shape}\")\n",
    "print(f\"Target labels shape: {y_train.shape}\")\n"
   ]
  },
  {
   "cell_type": "code",
   "execution_count": 6,
   "metadata": {},
   "outputs": [],
   "source": [
    "# Load the cleaned descriptions\n",
    "cleaned_path = \"../data/processed/cleaned_train_data.csv\"\n",
    "train_df = pd.read_csv(cleaned_path)"
   ]
  },
  {
   "cell_type": "code",
   "execution_count": 7,
   "metadata": {},
   "outputs": [
    {
     "data": {
      "text/plain": [
       "(54214, 5)"
      ]
     },
     "execution_count": 7,
     "metadata": {},
     "output_type": "execute_result"
    }
   ],
   "source": [
    "train_df.shape"
   ]
  },
  {
   "cell_type": "code",
   "execution_count": 8,
   "metadata": {},
   "outputs": [],
   "source": [
    "# TF-IDF Vectorization with N-grams\n",
    "tfidf_ngram_vectorizer = TfidfVectorizer(\n",
    "    ngram_range=(1, 3),  # Uni-grams, Bi-grams, and Tri-grams\n",
    "    max_features=5000\n",
    ")\n",
    "\n",
    "X_ngrams = tfidf_ngram_vectorizer.fit_transform(train_df['Cleaned_Description'])\n"
   ]
  },
  {
   "cell_type": "code",
   "execution_count": 9,
   "metadata": {},
   "outputs": [],
   "source": [
    "# Convert to DataFrame\n",
    "ngram_df = pd.DataFrame(X_ngrams.toarray(), columns=tfidf_ngram_vectorizer.get_feature_names_out())\n"
   ]
  },
  {
   "cell_type": "code",
   "execution_count": 10,
   "metadata": {},
   "outputs": [
    {
     "name": "stdout",
     "output_type": "stream",
     "text": [
      "N-gram features saved to: ../data/processed/train_data_ngrams.csv\n"
     ]
    }
   ],
   "source": [
    "# Save N-gram features\n",
    "ngram_path = \"../data/processed/train_data_ngrams.csv\"\n",
    "ngram_df.to_csv(ngram_path, index=False)\n",
    "print(f\"N-gram features saved to: {ngram_path}\")\n"
   ]
  },
  {
   "cell_type": "code",
   "execution_count": 11,
   "metadata": {},
   "outputs": [
    {
     "name": "stdout",
     "output_type": "stream",
     "text": [
      "N-gram vectorizer saved to: ../models/saved_models/ngram_vectorizer.pkl\n"
     ]
    }
   ],
   "source": [
    "# Save the vectorizer\n",
    "ngram_vectorizer_path = \"../models/saved_models/ngram_vectorizer.pkl\"\n",
    "joblib.dump(tfidf_ngram_vectorizer, ngram_vectorizer_path)\n",
    "print(f\"N-gram vectorizer saved to: {ngram_vectorizer_path}\")\n"
   ]
  },
  {
   "cell_type": "code",
   "execution_count": null,
   "metadata": {},
   "outputs": [],
   "source": []
  }
 ],
 "metadata": {
  "kernelspec": {
   "display_name": "Python (genre-classifier)",
   "language": "python",
   "name": "venv"
  },
  "language_info": {
   "codemirror_mode": {
    "name": "ipython",
    "version": 3
   },
   "file_extension": ".py",
   "mimetype": "text/x-python",
   "name": "python",
   "nbconvert_exporter": "python",
   "pygments_lexer": "ipython3",
   "version": "3.13.2"
  }
 },
 "nbformat": 4,
 "nbformat_minor": 2
}
