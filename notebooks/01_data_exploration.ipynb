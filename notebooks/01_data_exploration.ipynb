{
 "cells": [
  {
   "cell_type": "markdown",
   "metadata": {},
   "source": [
    "# Notebook: 01_data_exploration.ipynb"
   ]
  },
  {
   "cell_type": "code",
   "execution_count": 1,
   "metadata": {},
   "outputs": [],
   "source": [
    "import pandas as pd\n",
    "import seaborn as sns\n",
    "import matplotlib.pyplot as plt\n",
    "import sys\n",
    "import os"
   ]
  },
  {
   "cell_type": "code",
   "execution_count": 2,
   "metadata": {},
   "outputs": [
    {
     "name": "stderr",
     "output_type": "stream",
     "text": [
      "/Users/adityakumar/Developer/Projects/movie-genre-classifier/notebooks/../src/data_loader.py:21: SyntaxWarning: invalid escape sequence '\\s'\n",
      "  df = pd.read_csv(file_path, sep='\\s*:::\\s*', engine='python', names=columns)\n"
     ]
    }
   ],
   "source": [
    "\n",
    "# Add the relative path to the directory containing data_loader.py to the system path\n",
    "sys.path.append('../src')\n",
    "\n",
    "# Import the load_data function from data_loader.py\n",
    "from data_loader import load_data"
   ]
  },
  {
   "cell_type": "code",
   "execution_count": 3,
   "metadata": {},
   "outputs": [],
   "source": [
    "# Load train and test data\n",
    "train_path = \"../data/raw/train_data.txt\"\n",
    "test_path = \"../data/raw/test_data.txt\""
   ]
  },
  {
   "cell_type": "code",
   "execution_count": 4,
   "metadata": {},
   "outputs": [
    {
     "name": "stdout",
     "output_type": "stream",
     "text": [
      "Loading training data from: ../data/raw/train_data.txt\n",
      "Data loaded successfully from ../data/raw/train_data.txt\n",
      "Shape of dataset: (54214, 4)\n",
      "Training data loaded with 54214 rows and 4 columns\n",
      "\n"
     ]
    }
   ],
   "source": [
    "print(f\"Loading training data from: {train_path}\")\n",
    "train_df = load_data(train_path, is_train=True)\n",
    "print(f\"Training data loaded with {train_df.shape[0]} rows and {train_df.shape[1]} columns\\n\")\n"
   ]
  },
  {
   "cell_type": "code",
   "execution_count": 5,
   "metadata": {},
   "outputs": [
    {
     "name": "stdout",
     "output_type": "stream",
     "text": [
      "Loading test data from: ../data/raw/test_data.txt\n",
      "Data loaded successfully from ../data/raw/test_data.txt\n",
      "Shape of dataset: (54200, 3)\n",
      "Test data loaded with 54200 rows and 3 columns\n",
      "\n"
     ]
    }
   ],
   "source": [
    "print(f\"Loading test data from: {test_path}\")\n",
    "test_df = load_data(test_path, is_train=False)\n",
    "print(f\"Test data loaded with {test_df.shape[0]} rows and {test_df.shape[1]} columns\\n\")\n"
   ]
  },
  {
   "cell_type": "code",
   "execution_count": 6,
   "metadata": {},
   "outputs": [
    {
     "name": "stdout",
     "output_type": "stream",
     "text": [
      "(54214, 4)\n",
      "(54200, 3)\n"
     ]
    }
   ],
   "source": [
    "print(train_df.shape)\n",
    "print(test_df.shape)"
   ]
  },
  {
   "cell_type": "code",
   "execution_count": 7,
   "metadata": {},
   "outputs": [],
   "source": [
    "# Display dataset overview\n",
    "def explore_data(df, name):\n",
    "    print(f\"{name} Dataset Overview:\")\n",
    "    print(df.info(), \"\\n\")\n",
    "    print(df.describe(include='all'), \"\\n\")\n",
    "    print(\"Sample Data:\")\n",
    "    print(df.head(), \"\\n\")\n",
    "    print(\"Missing Values:\")\n",
    "    print(df.isnull().sum(), \"\\n\")"
   ]
  },
  {
   "cell_type": "code",
   "execution_count": 8,
   "metadata": {},
   "outputs": [
    {
     "name": "stdout",
     "output_type": "stream",
     "text": [
      "Train Dataset Overview:\n",
      "<class 'pandas.core.frame.DataFrame'>\n",
      "RangeIndex: 54214 entries, 0 to 54213\n",
      "Data columns (total 4 columns):\n",
      " #   Column       Non-Null Count  Dtype \n",
      "---  ------       --------------  ----- \n",
      " 0   ID           54214 non-null  int64 \n",
      " 1   Title        54214 non-null  object\n",
      " 2   Genre        54214 non-null  object\n",
      " 3   Description  54214 non-null  object\n",
      "dtypes: int64(1), object(3)\n",
      "memory usage: 1.7+ MB\n",
      "None \n",
      "\n",
      "                  ID                         Title  Genre  \\\n",
      "count   54214.000000                         54214  54214   \n",
      "unique           NaN                         54214     27   \n",
      "top              NaN  Oscar et la dame rose (2009)  drama   \n",
      "freq             NaN                             1  13613   \n",
      "mean    27107.500000                           NaN    NaN   \n",
      "std     15650.378084                           NaN    NaN   \n",
      "min         1.000000                           NaN    NaN   \n",
      "25%     13554.250000                           NaN    NaN   \n",
      "50%     27107.500000                           NaN    NaN   \n",
      "75%     40660.750000                           NaN    NaN   \n",
      "max     54214.000000                           NaN    NaN   \n",
      "\n",
      "                                              Description  \n",
      "count                                               54214  \n",
      "unique                                              54086  \n",
      "top     Grammy - music award of the American academy o...  \n",
      "freq                                                   12  \n",
      "mean                                                  NaN  \n",
      "std                                                   NaN  \n",
      "min                                                   NaN  \n",
      "25%                                                   NaN  \n",
      "50%                                                   NaN  \n",
      "75%                                                   NaN  \n",
      "max                                                   NaN   \n",
      "\n",
      "Sample Data:\n",
      "   ID                             Title     Genre  \\\n",
      "0   1      Oscar et la dame rose (2009)     drama   \n",
      "1   2                      Cupid (1997)  thriller   \n",
      "2   3  Young, Wild and Wonderful (1980)     adult   \n",
      "3   4             The Secret Sin (1915)     drama   \n",
      "4   5            The Unrecovered (2007)     drama   \n",
      "\n",
      "                                         Description  \n",
      "0  Listening in to a conversation between his doc...  \n",
      "1  A brother and sister with a past incestuous re...  \n",
      "2  As the bus empties the students for their fiel...  \n",
      "3  To help their unemployed father make ends meet...  \n",
      "4  The film's title refers not only to the un-rec...   \n",
      "\n",
      "Missing Values:\n",
      "ID             0\n",
      "Title          0\n",
      "Genre          0\n",
      "Description    0\n",
      "dtype: int64 \n",
      "\n",
      "Test Dataset Overview:\n",
      "<class 'pandas.core.frame.DataFrame'>\n",
      "RangeIndex: 54200 entries, 0 to 54199\n",
      "Data columns (total 3 columns):\n",
      " #   Column       Non-Null Count  Dtype \n",
      "---  ------       --------------  ----- \n",
      " 0   ID           54200 non-null  int64 \n",
      " 1   Title        54200 non-null  object\n",
      " 2   Description  54200 non-null  object\n",
      "dtypes: int64(1), object(2)\n",
      "memory usage: 1.2+ MB\n",
      "None \n",
      "\n",
      "                  ID                 Title  \\\n",
      "count   54200.000000                 54200   \n",
      "unique           NaN                 54200   \n",
      "top              NaN  Edgar's Lunch (1998)   \n",
      "freq             NaN                     1   \n",
      "mean    27100.500000                   NaN   \n",
      "std     15646.336632                   NaN   \n",
      "min         1.000000                   NaN   \n",
      "25%     13550.750000                   NaN   \n",
      "50%     27100.500000                   NaN   \n",
      "75%     40650.250000                   NaN   \n",
      "max     54200.000000                   NaN   \n",
      "\n",
      "                                              Description  \n",
      "count                                               54200  \n",
      "unique                                              54072  \n",
      "top     Grammy - music award of the American academy o...  \n",
      "freq                                                   10  \n",
      "mean                                                  NaN  \n",
      "std                                                   NaN  \n",
      "min                                                   NaN  \n",
      "25%                                                   NaN  \n",
      "50%                                                   NaN  \n",
      "75%                                                   NaN  \n",
      "max                                                   NaN   \n",
      "\n",
      "Sample Data:\n",
      "   ID                        Title  \\\n",
      "0   1         Edgar's Lunch (1998)   \n",
      "1   2     La guerra de papá (1977)   \n",
      "2   3  Off the Beaten Track (2010)   \n",
      "3   4       Meu Amigo Hindu (2015)   \n",
      "4   5            Er nu zhai (1955)   \n",
      "\n",
      "                                         Description  \n",
      "0  L.R. Brane loves his life - his car, his apart...  \n",
      "1  Spain, March 1964: Quico is a very naughty chi...  \n",
      "2  One year in the life of Albin and his family o...  \n",
      "3  His father has died, he hasn't spoken with his...  \n",
      "4  Before he was known internationally as a marti...   \n",
      "\n",
      "Missing Values:\n",
      "ID             0\n",
      "Title          0\n",
      "Description    0\n",
      "dtype: int64 \n",
      "\n"
     ]
    }
   ],
   "source": [
    "explore_data(train_df, \"Train\")\n",
    "explore_data(test_df, \"Test\")"
   ]
  },
  {
   "cell_type": "code",
   "execution_count": 23,
   "metadata": {},
   "outputs": [
    {
     "data": {
      "image/png": "[encoded data removed]",
      "text/plain": [
       "<Figure size 1200x600 with 1 Axes>"
      ]
     },
     "metadata": {},
     "output_type": "display_data"
    }
   ],
   "source": [
    "# Visualizing genre distribution\n",
    "if \"Genre\" in train_df.columns:\n",
    "    plt.figure(figsize=(12, 6))\n",
    "    sns.countplot(y=train_df['Genre'], order=train_df['Genre'].value_counts().index, hue=train_df['Genre'], palette=\"viridis\", legend=False)\n",
    "    plt.title(\"Genre Distribution in Training Data\")\n",
    "    plt.xlabel(\"Count\")\n",
    "    plt.ylabel(\"Genre\")\n",
    "    plt.show()\n",
    "else:\n",
    "    print(\"Genre column not found in training data.\")"
   ]
  },
  {
   "cell_type": "code",
   "execution_count": null,
   "metadata": {},
   "outputs": [],
   "source": []
  }
 ],
 "metadata": {
  "kernelspec": {
   "display_name": "Python (genre-classifier)",
   "language": "python",
   "name": "venv"
  },
  "language_info": {
   "codemirror_mode": {
    "name": "ipython",
    "version": 3
   },
   "file_extension": ".py",
   "mimetype": "text/x-python",
   "name": "python",
   "nbconvert_exporter": "python",
   "pygments_lexer": "ipython3",
   "version": "3.13.2"
  }
 },
 "nbformat": 4,
 "nbformat_minor": 2
}
